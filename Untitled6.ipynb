{
  "cells": [
    {
      "cell_type": "markdown",
      "metadata": {
        "id": "view-in-github",
        "colab_type": "text"
      },
      "source": [
        "<a href=\"https://colab.research.google.com/github/binarycombinatrixcoder/AI-friend/blob/main/Untitled6.ipynb\" target=\"_parent\"><img src=\"https://colab.research.google.com/assets/colab-badge.svg\" alt=\"Open In Colab\"/></a>"
      ]
    },
    {
      "cell_type": "code",
      "execution_count": null,
      "metadata": {
        "id": "ZL-gvZOY4ZpS",
        "collapsed": true
      },
      "outputs": [],
      "source": [
        "! pip install -U pip\n",
        "! pip install TTS"
      ]
    },
    {
      "cell_type": "code",
      "execution_count": null,
      "metadata": {
        "id": "xYafTlhQirbM",
        "collapsed": true
      },
      "outputs": [],
      "source": [
        "!pip install fastapi nest-asyncio pyngrok uvicorn"
      ]
    },
    {
      "cell_type": "code",
      "execution_count": null,
      "metadata": {
        "id": "ShErZcv55MFm",
        "collapsed": true
      },
      "outputs": [],
      "source": [
        "# ! tts --list_models\n",
        "! tts --model_name \"tts_models/multilingual/multi-dataset/xtts_v2\"  --list_speaker_idxs"
      ]
    },
    {
      "cell_type": "code",
      "execution_count": null,
      "metadata": {
        "id": "vbHTAJJ9x8ph"
      },
      "outputs": [],
      "source": [
        "!pip install -q -U google-generativeai"
      ]
    },
    {
      "cell_type": "code",
      "execution_count": null,
      "metadata": {
        "id": "X3dMf5N4jAG0",
        "collapsed": true
      },
      "outputs": [],
      "source": [
        "from fastapi import FastAPI, HTTPException, Request\n",
        "from fastapi.middleware.cors import CORSMiddleware\n",
        "from TTS.api import TTS\n",
        "from fastapi.responses import FileResponse\n",
        "from pydantic import BaseModel\n",
        "import google.generativeai as genai\n",
        "import re\n",
        "# Used to securely store your API key\n",
        "from google.colab import userdata\n",
        "\n",
        "GOOGLE_API_KEY=userdata.get('GOOGLE_API_KEY')\n",
        "genai.configure(api_key=GOOGLE_API_KEY)\n",
        "\n",
        "generation_config = {\n",
        "    \"temperature\": 1,\n",
        "    \"top_p\": 0.95,\n",
        "    \"top_k\": 64,\n",
        "    \"max_output_tokens\": 500,\n",
        "    \"response_mime_type\": \"text/plain\",\n",
        "}\n",
        "\n",
        "model = genai.GenerativeModel(\n",
        "    model_name=\"gemini-1.5-flash-exp-0827\",\n",
        "    system_instruction=\"You are a girl named Jeniffer, you will be in a conversation, give responses like natural speech avoid *, #, @ and such characters which are not a part of regular speech, give short answers unless necessary, be expressive about emotions using phrases like that's cool, wow, oh no, yay, haha etc\",\n",
        "    generation_config=generation_config,\n",
        ")\n",
        "\n",
        "tts = TTS(\"tts_models/multilingual/multi-dataset/xtts_v2\").to(\"cpu\")\n",
        "\n",
        "app = FastAPI()\n",
        "\n",
        "app.add_middleware(\n",
        "    CORSMiddleware,\n",
        "    allow_origins=['*'],\n",
        "    allow_credentials=True,\n",
        "    allow_methods=['*'],\n",
        "    allow_headers=['*'],\n",
        ")\n",
        "\n",
        "@app.get('/')\n",
        "async def root():\n",
        "    return {'hello': 'world'}\n",
        "\n",
        "class UserCreate(BaseModel):\n",
        "    message: str\n",
        "\n",
        "\n",
        "@app.post('/send', response_class=FileResponse)\n",
        "async def sendmsg(chat_request: UserCreate):\n",
        "  try:\n",
        "    print(chat_request)\n",
        "\n",
        "    chat_session = model.start_chat(history=[])\n",
        "\n",
        "    userText = chat_request.message\n",
        "    response = chat_session.send_message(userText)\n",
        "\n",
        "    filteredRes = re.sub(r'[^a-zA-Z\\s,!.;?]','',response.text)\n",
        "\n",
        "    print(response.text)\n",
        "\n",
        "    tts.tts_to_file(text=filteredRes,\n",
        "                  file_path=\"output.wav\",\n",
        "                  split_sentences=True,\n",
        "                  language=\"en\",\n",
        "                  speaker=\"Daisy Studious\",\n",
        "                  # speaker=\"\"\n",
        "                  emotion=\"lively\",\n",
        "                  speed=1\n",
        "\n",
        "                  )\n",
        "    file_path = \"output.wav\"\n",
        "    return file_path\n",
        "  except Exception as e:\n",
        "        raise HTTPException(status_code=500, detail=str(e))\n"
      ]
    },
    {
      "cell_type": "code",
      "execution_count": null,
      "metadata": {
        "id": "lmKnmMutjJwK",
        "collapsed": true
      },
      "outputs": [],
      "source": [
        "import nest_asyncio\n",
        "from pyngrok import ngrok\n",
        "import uvicorn\n",
        "\n",
        "ngrok.set_auth_token(\"2mqjKVt1bv623hPxr8rab2OzQ35_CCUyCBfshD1ivsMscsGp\")\n",
        "ngrok_tunnel = ngrok.connect(8000)\n",
        "print('Public URL:', ngrok_tunnel.public_url)\n",
        "nest_asyncio.apply()\n",
        "uvicorn.run(app, port=8000)"
      ]
    },
    {
      "cell_type": "code",
      "execution_count": null,
      "metadata": {
        "id": "_sf-lOVW5pzp",
        "collapsed": true
      },
      "outputs": [],
      "source": [
        "# !tts --text \"hello world\" \\\n",
        "# --model_name \"tts_models/en/ljspeech/glow-tts\" \\\n",
        "# --out_path output.wav\n",
        "# from TTS.api import TTS\n",
        "\n",
        "# # device = \"cuda\" if torch.cuda.is_available() else \"cpu\"\n",
        "# tts = TTS(\"tts_models/en/ljspeech/glow-tts\").to(\"cpu\")\n",
        "\n",
        "# # generate speech by cloning a voice using default settings\n",
        "# tts.tts_to_file(text=\"I am trying out text to speech on google colab without any cloud A P I Is' !\",\n",
        "#                 file_path=\"output.wav\"\n",
        "#                 )"
      ]
    },
    {
      "cell_type": "code",
      "execution_count": null,
      "metadata": {
        "id": "3svHjJHV55Ex"
      },
      "outputs": [],
      "source": [
        "import IPython\n",
        "IPython.display.Audio(\"output.wav\")"
      ]
    }
  ],
  "metadata": {
    "colab": {
      "provenance": [],
      "include_colab_link": true
    },
    "kernelspec": {
      "display_name": "Python 3",
      "name": "python3"
    },
    "language_info": {
      "name": "python"
    }
  },
  "nbformat": 4,
  "nbformat_minor": 0
}